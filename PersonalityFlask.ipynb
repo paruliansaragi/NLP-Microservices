{
  "nbformat": 4,
  "nbformat_minor": 0,
  "metadata": {
    "colab": {
      "name": "PersonalityFlask.ipynb",
      "version": "0.3.2",
      "provenance": [],
      "include_colab_link": true
    },
    "kernelspec": {
      "name": "python3",
      "display_name": "Python 3"
    },
    "accelerator": "GPU"
  },
  "cells": [
    {
      "cell_type": "markdown",
      "metadata": {
        "id": "view-in-github",
        "colab_type": "text"
      },
      "source": [
        "<a href=\"https://colab.research.google.com/github/paruliansaragi/NLP-Microservices/blob/master/PersonalityFlask.ipynb\" target=\"_parent\"><img src=\"https://colab.research.google.com/assets/colab-badge.svg\" alt=\"Open In Colab\"/></a>"
      ]
    },
    {
      "cell_type": "code",
      "metadata": {
        "id": "luv1D2gbWFeV",
        "colab_type": "code",
        "outputId": "e8c005ce-3721-4890-a93d-7e234513884e",
        "colab": {
          "base_uri": "https://localhost:8080/",
          "height": 191
        }
      },
      "source": [
        "!pip show tensorflow"
      ],
      "execution_count": 0,
      "outputs": [
        {
          "output_type": "stream",
          "text": [
            "Name: tensorflow\n",
            "Version: 1.12.0\n",
            "Summary: TensorFlow is an open source machine learning framework for everyone.\n",
            "Home-page: https://www.tensorflow.org/\n",
            "Author: Google Inc.\n",
            "Author-email: opensource@google.com\n",
            "License: Apache 2.0\n",
            "Location: /usr/local/lib/python3.6/dist-packages\n",
            "Requires: grpcio, absl-py, wheel, six, protobuf, astor, termcolor, tensorboard, keras-preprocessing, numpy, keras-applications, gast\n",
            "Required-by: stable-baselines, magenta, fancyimpute\n"
          ],
          "name": "stdout"
        }
      ]
    },
    {
      "cell_type": "code",
      "metadata": {
        "id": "5q1n5gCCWTQM",
        "colab_type": "code",
        "outputId": "c3585f61-44f9-49be-9af0-56a22d0491ba",
        "colab": {
          "base_uri": "https://localhost:8080/",
          "height": 332
        }
      },
      "source": [
        "!pip install tensorflow==1.12.0"
      ],
      "execution_count": 0,
      "outputs": [
        {
          "output_type": "stream",
          "text": [
            "Requirement already satisfied: tensorflow==1.12.0 in /usr/local/lib/python3.6/dist-packages (1.12.0)\n",
            "Requirement already satisfied: keras-applications>=1.0.6 in /usr/local/lib/python3.6/dist-packages (from tensorflow==1.12.0) (1.0.6)\n",
            "Requirement already satisfied: keras-preprocessing>=1.0.5 in /usr/local/lib/python3.6/dist-packages (from tensorflow==1.12.0) (1.0.5)\n",
            "Requirement already satisfied: gast>=0.2.0 in /usr/local/lib/python3.6/dist-packages (from tensorflow==1.12.0) (0.2.2)\n",
            "Requirement already satisfied: grpcio>=1.8.6 in /usr/local/lib/python3.6/dist-packages (from tensorflow==1.12.0) (1.15.0)\n",
            "Requirement already satisfied: protobuf>=3.6.1 in /usr/local/lib/python3.6/dist-packages (from tensorflow==1.12.0) (3.6.1)\n",
            "Requirement already satisfied: termcolor>=1.1.0 in /usr/local/lib/python3.6/dist-packages (from tensorflow==1.12.0) (1.1.0)\n",
            "Requirement already satisfied: tensorboard<1.13.0,>=1.12.0 in /usr/local/lib/python3.6/dist-packages (from tensorflow==1.12.0) (1.12.2)\n",
            "Requirement already satisfied: wheel>=0.26 in /usr/local/lib/python3.6/dist-packages (from tensorflow==1.12.0) (0.32.3)\n",
            "Requirement already satisfied: absl-py>=0.1.6 in /usr/local/lib/python3.6/dist-packages (from tensorflow==1.12.0) (0.6.1)\n",
            "Requirement already satisfied: six>=1.10.0 in /usr/local/lib/python3.6/dist-packages (from tensorflow==1.12.0) (1.11.0)\n",
            "Requirement already satisfied: astor>=0.6.0 in /usr/local/lib/python3.6/dist-packages (from tensorflow==1.12.0) (0.7.1)\n",
            "Requirement already satisfied: numpy>=1.13.3 in /usr/local/lib/python3.6/dist-packages (from tensorflow==1.12.0) (1.14.6)\n",
            "Requirement already satisfied: h5py in /usr/local/lib/python3.6/dist-packages (from keras-applications>=1.0.6->tensorflow==1.12.0) (2.8.0)\n",
            "Requirement already satisfied: setuptools in /usr/local/lib/python3.6/dist-packages (from protobuf>=3.6.1->tensorflow==1.12.0) (40.6.3)\n",
            "Requirement already satisfied: markdown>=2.6.8 in /usr/local/lib/python3.6/dist-packages (from tensorboard<1.13.0,>=1.12.0->tensorflow==1.12.0) (3.0.1)\n",
            "Requirement already satisfied: werkzeug>=0.11.10 in /usr/local/lib/python3.6/dist-packages (from tensorboard<1.13.0,>=1.12.0->tensorflow==1.12.0) (0.14.1)\n"
          ],
          "name": "stdout"
        }
      ]
    },
    {
      "cell_type": "code",
      "metadata": {
        "id": "m2HS_Xel3wsR",
        "colab_type": "code",
        "outputId": "734a757f-5413-41ce-a099-945b0c97c2f2",
        "colab": {
          "base_uri": "https://localhost:8080/",
          "height": 35
        }
      },
      "source": [
        "import sys, os, re, csv, codecs, numpy as np, pandas as pd\n",
        "import keras\n",
        "from keras.preprocessing.text import Tokenizer\n",
        "from keras.preprocessing.sequence import pad_sequences\n",
        "from keras.layers import Dense, Input, LSTM, Embedding, Dropout, Activation\n",
        "from keras.layers import Bidirectional, GlobalMaxPool1D\n",
        "from keras.models import Model\n",
        "from keras import initializers, regularizers, constraints, optimizers, layers"
      ],
      "execution_count": 0,
      "outputs": [
        {
          "output_type": "stream",
          "text": [
            "Using TensorFlow backend.\n"
          ],
          "name": "stderr"
        }
      ]
    },
    {
      "cell_type": "code",
      "metadata": {
        "id": "-AgF7su84RO8",
        "colab_type": "code",
        "colab": {}
      },
      "source": [
        "embed_size = 50 # how big is each word vector\n",
        "max_features = 20000 # how many unique words to use (i.e num rows in embedding vector)\n",
        "maxlen = 100 # max number of words in a comment to use"
      ],
      "execution_count": 0,
      "outputs": []
    },
    {
      "cell_type": "code",
      "metadata": {
        "id": "PLqAyjmo4TtP",
        "colab_type": "code",
        "colab": {}
      },
      "source": [
        "from sklearn.model_selection import train_test_split\n",
        "\n",
        "df = pd.read_csv('mbti_1.csv')"
      ],
      "execution_count": 0,
      "outputs": []
    },
    {
      "cell_type": "code",
      "metadata": {
        "id": "yEVVcRQa5kFE",
        "colab_type": "code",
        "outputId": "16853a0d-7d77-4277-dcef-2631a0798ff7",
        "colab": {
          "base_uri": "https://localhost:8080/",
          "height": 35
        }
      },
      "source": [
        "from sklearn import preprocessing\n",
        "le = preprocessing.LabelEncoder()\n",
        "le.fit(df.type)"
      ],
      "execution_count": 0,
      "outputs": [
        {
          "output_type": "execute_result",
          "data": {
            "text/plain": [
              "LabelEncoder()"
            ]
          },
          "metadata": {
            "tags": []
          },
          "execution_count": 5
        }
      ]
    },
    {
      "cell_type": "code",
      "metadata": {
        "id": "r1L8TE5z51zT",
        "colab_type": "code",
        "colab": {}
      },
      "source": [
        "labels = le.transform(df.type)"
      ],
      "execution_count": 0,
      "outputs": []
    },
    {
      "cell_type": "code",
      "metadata": {
        "id": "N7FPG4_56baa",
        "colab_type": "code",
        "colab": {}
      },
      "source": [
        "df['Label'] = labels"
      ],
      "execution_count": 0,
      "outputs": []
    },
    {
      "cell_type": "code",
      "metadata": {
        "id": "pn9IucrG66xG",
        "colab_type": "code",
        "colab": {}
      },
      "source": [
        "trn, test = train_test_split(df, test_size=0.1)"
      ],
      "execution_count": 0,
      "outputs": []
    },
    {
      "cell_type": "code",
      "metadata": {
        "id": "qnVAFi5t7iQz",
        "colab_type": "code",
        "colab": {}
      },
      "source": [
        "list_sentences_train = trn[\"posts\"].fillna(\"_na_\").values\n",
        "y = trn[\"Label\"].values\n",
        "list_sentences_test = test[\"posts\"].fillna(\"_na_\").values"
      ],
      "execution_count": 0,
      "outputs": []
    },
    {
      "cell_type": "code",
      "metadata": {
        "id": "mMvlqq_27nAg",
        "colab_type": "code",
        "colab": {}
      },
      "source": [
        "tokenizer = Tokenizer(num_words=max_features)\n",
        "tokenizer.fit_on_texts(list(list_sentences_train))\n",
        "list_tokenized_train = tokenizer.texts_to_sequences(list_sentences_train)\n",
        "list_tokenized_test = tokenizer.texts_to_sequences(list_sentences_test)\n",
        "X_t = pad_sequences(list_tokenized_train, maxlen=maxlen)\n",
        "X_te = pad_sequences(list_tokenized_test, maxlen=maxlen)"
      ],
      "execution_count": 0,
      "outputs": []
    },
    {
      "cell_type": "code",
      "metadata": {
        "id": "zJSOxOJB8Wb6",
        "colab_type": "code",
        "colab": {}
      },
      "source": [
        "y_train = keras.utils.to_categorical(trn.Label, len(df.Label.unique()))"
      ],
      "execution_count": 0,
      "outputs": []
    },
    {
      "cell_type": "code",
      "metadata": {
        "id": "K2qiJfW48myE",
        "colab_type": "code",
        "outputId": "25edf862-540d-4d32-85c4-e694a1c82f2a",
        "colab": {
          "base_uri": "https://localhost:8080/",
          "height": 364
        }
      },
      "source": [
        "!wget http://nlp.stanford.edu/data/glove.6B.zip\n",
        "!unzip glove.6B.zip  "
      ],
      "execution_count": 0,
      "outputs": [
        {
          "output_type": "stream",
          "text": [
            "--2019-01-15 17:27:01--  http://nlp.stanford.edu/data/glove.6B.zip\n",
            "Resolving nlp.stanford.edu (nlp.stanford.edu)... 171.64.67.140\n",
            "Connecting to nlp.stanford.edu (nlp.stanford.edu)|171.64.67.140|:80... connected.\n",
            "HTTP request sent, awaiting response... 302 Found\n",
            "Location: https://nlp.stanford.edu/data/glove.6B.zip [following]\n",
            "--2019-01-15 17:27:01--  https://nlp.stanford.edu/data/glove.6B.zip\n",
            "Connecting to nlp.stanford.edu (nlp.stanford.edu)|171.64.67.140|:443... connected.\n",
            "HTTP request sent, awaiting response... 200 OK\n",
            "Length: 862182613 (822M) [application/zip]\n",
            "Saving to: ‘glove.6B.zip’\n",
            "\n",
            "glove.6B.zip        100%[===================>] 822.24M  16.6MB/s    in 53s     \n",
            "\n",
            "2019-01-15 17:27:54 (15.7 MB/s) - ‘glove.6B.zip’ saved [862182613/862182613]\n",
            "\n",
            "Archive:  glove.6B.zip\n",
            "  inflating: glove.6B.50d.txt        \n",
            "  inflating: glove.6B.100d.txt       \n",
            "  inflating: glove.6B.200d.txt       \n",
            "  inflating: glove.6B.300d.txt       \n"
          ],
          "name": "stdout"
        }
      ]
    },
    {
      "cell_type": "code",
      "metadata": {
        "id": "tTKGiDr18hID",
        "colab_type": "code",
        "colab": {}
      },
      "source": [
        "path = './'\n",
        "EMBEDDING_FILE=f'{path}glove.6B.50d.txt'"
      ],
      "execution_count": 0,
      "outputs": []
    },
    {
      "cell_type": "code",
      "metadata": {
        "id": "3eT06IWd8sBQ",
        "colab_type": "code",
        "colab": {}
      },
      "source": [
        "def get_coefs(word,*arr): return word, np.asarray(arr, dtype='float32')\n",
        "embeddings_index = dict(get_coefs(*o.strip().split()) for o in open(EMBEDDING_FILE))"
      ],
      "execution_count": 0,
      "outputs": []
    },
    {
      "cell_type": "code",
      "metadata": {
        "id": "lkW4xuuH894U",
        "colab_type": "code",
        "outputId": "dfdf2ce8-9673-4ce1-a09b-4c67ee4d01a7",
        "colab": {
          "base_uri": "https://localhost:8080/",
          "height": 35
        }
      },
      "source": [
        "all_embs = np.stack(embeddings_index.values())\n",
        "emb_mean,emb_std = all_embs.mean(), all_embs.std()\n",
        "#emb_mean,emb_std"
      ],
      "execution_count": 0,
      "outputs": [
        {
          "output_type": "execute_result",
          "data": {
            "text/plain": [
              "(0.020940498, 0.6441043)"
            ]
          },
          "metadata": {
            "tags": []
          },
          "execution_count": 21
        }
      ]
    },
    {
      "cell_type": "code",
      "metadata": {
        "id": "ZKQO5JXs8_NJ",
        "colab_type": "code",
        "colab": {}
      },
      "source": [
        "word_index = tokenizer.word_index\n",
        "nb_words = min(max_features, len(word_index))\n",
        "embedding_matrix = np.random.normal(emb_mean, emb_std, (nb_words, embed_size))\n",
        "for word, i in word_index.items():\n",
        "    if i >= max_features: continue\n",
        "    embedding_vector = embeddings_index.get(word)\n",
        "    if embedding_vector is not None: embedding_matrix[i] = embedding_vector"
      ],
      "execution_count": 0,
      "outputs": []
    },
    {
      "cell_type": "code",
      "metadata": {
        "id": "NfmDUXJr9AVD",
        "colab_type": "code",
        "colab": {}
      },
      "source": [
        "inp = Input(shape=(maxlen,))\n",
        "x = Embedding(max_features, embed_size, weights=[embedding_matrix])(inp)\n",
        "x = Bidirectional(LSTM(50, return_sequences=True, dropout=0.1, recurrent_dropout=0.1))(x)\n",
        "x = GlobalMaxPool1D()(x)\n",
        "x = Dense(50, activation=\"relu\")(x)\n",
        "x = Dropout(0.1)(x)\n",
        "x = Dense(16, activation=\"sigmoid\")(x)\n",
        "model = Model(inputs=inp, outputs=x)\n",
        "model.compile(loss='binary_crossentropy', optimizer='adam', metrics=['accuracy'])\n",
        "#Future idea: try drop connections as a better method of regularization than dropout."
      ],
      "execution_count": 0,
      "outputs": []
    },
    {
      "cell_type": "code",
      "metadata": {
        "id": "_d_khp0I9CIA",
        "colab_type": "code",
        "outputId": "567af417-5434-4fab-ab2f-82e97a6d44aa",
        "colab": {
          "base_uri": "https://localhost:8080/",
          "height": 228
        }
      },
      "source": [
        "model.fit(X_t, y_train, batch_size=32, epochs=5, validation_split=0.1);"
      ],
      "execution_count": 0,
      "outputs": [
        {
          "output_type": "stream",
          "text": [
            "Train on 7026 samples, validate on 781 samples\n",
            "Epoch 1/5\n",
            "7026/7026 [==============================] - 117s 17ms/step - loss: 0.2424 - acc: 0.9263 - val_loss: 0.1993 - val_acc: 0.9375\n",
            "Epoch 2/5\n",
            "7026/7026 [==============================] - 114s 16ms/step - loss: 0.2064 - acc: 0.9373 - val_loss: 0.1968 - val_acc: 0.9375\n",
            "Epoch 3/5\n",
            "7026/7026 [==============================] - 114s 16ms/step - loss: 0.2015 - acc: 0.9374 - val_loss: 0.1940 - val_acc: 0.9375\n",
            "Epoch 4/5\n",
            "7026/7026 [==============================] - 113s 16ms/step - loss: 0.1970 - acc: 0.9379 - val_loss: 0.1911 - val_acc: 0.9388\n",
            "Epoch 5/5\n",
            "7026/7026 [==============================] - 114s 16ms/step - loss: 0.1910 - acc: 0.9386 - val_loss: 0.1888 - val_acc: 0.9385\n"
          ],
          "name": "stdout"
        }
      ]
    },
    {
      "cell_type": "code",
      "metadata": {
        "id": "ZCNdHOrd9Ddu",
        "colab_type": "code",
        "outputId": "f6036704-9bea-4b8d-fa1e-3d8484ba8135",
        "colab": {
          "base_uri": "https://localhost:8080/",
          "height": 260
        }
      },
      "source": [
        "y_test = model.predict([X_te], batch_size=1024, verbose=1); y_test"
      ],
      "execution_count": 0,
      "outputs": [
        {
          "output_type": "stream",
          "text": [
            "\r868/868 [==============================] - 0s 217us/step\n"
          ],
          "name": "stdout"
        },
        {
          "output_type": "execute_result",
          "data": {
            "text/plain": [
              "array([[0.02264689, 0.04949522, 0.02345018, ..., 0.02069343, 0.0127435 ,\n",
              "        0.02279945],\n",
              "       [0.02030412, 0.07793358, 0.0273341 , ..., 0.0313096 , 0.02425092,\n",
              "        0.03092637],\n",
              "       [0.02189407, 0.06478137, 0.02929332, ..., 0.02232615, 0.03018474,\n",
              "        0.03889241],\n",
              "       ...,\n",
              "       [0.02691584, 0.09123602, 0.03991226, ..., 0.04305905, 0.02982636,\n",
              "        0.04347808],\n",
              "       [0.02677807, 0.06336863, 0.02947936, ..., 0.03010734, 0.02793651,\n",
              "        0.0355185 ],\n",
              "       [0.02138883, 0.07849089, 0.02865112, ..., 0.02852133, 0.0248575 ,\n",
              "        0.03313944]], dtype=float32)"
            ]
          },
          "metadata": {
            "tags": []
          },
          "execution_count": 54
        }
      ]
    },
    {
      "cell_type": "code",
      "metadata": {
        "id": "JP3v8rrtCme1",
        "colab_type": "code",
        "colab": {}
      },
      "source": [
        "example = ['Masters, in what I will not reveal, lets keep']"
      ],
      "execution_count": 0,
      "outputs": []
    },
    {
      "cell_type": "code",
      "metadata": {
        "id": "iHvb5HJRzPNl",
        "colab_type": "code",
        "outputId": "6d91b626-5813-445a-aab2-6506996b4b86",
        "colab": {
          "base_uri": "https://localhost:8080/",
          "height": 202
        }
      },
      "source": [
        "test.head()"
      ],
      "execution_count": 0,
      "outputs": [
        {
          "output_type": "execute_result",
          "data": {
            "text/html": [
              "<div>\n",
              "<style scoped>\n",
              "    .dataframe tbody tr th:only-of-type {\n",
              "        vertical-align: middle;\n",
              "    }\n",
              "\n",
              "    .dataframe tbody tr th {\n",
              "        vertical-align: top;\n",
              "    }\n",
              "\n",
              "    .dataframe thead th {\n",
              "        text-align: right;\n",
              "    }\n",
              "</style>\n",
              "<table border=\"1\" class=\"dataframe\">\n",
              "  <thead>\n",
              "    <tr style=\"text-align: right;\">\n",
              "      <th></th>\n",
              "      <th>type</th>\n",
              "      <th>posts</th>\n",
              "      <th>Label</th>\n",
              "    </tr>\n",
              "  </thead>\n",
              "  <tbody>\n",
              "    <tr>\n",
              "      <th>8075</th>\n",
              "      <td>INFP</td>\n",
              "      <td>'Masters, in what I will not reveal, lets keep...</td>\n",
              "      <td>9</td>\n",
              "    </tr>\n",
              "    <tr>\n",
              "      <th>5656</th>\n",
              "      <td>ENTJ</td>\n",
              "      <td>'I find it a lot easier to believe in God than...</td>\n",
              "      <td>2</td>\n",
              "    </tr>\n",
              "    <tr>\n",
              "      <th>4330</th>\n",
              "      <td>ISFP</td>\n",
              "      <td>'1: ISFP 2: Girl 3: youngest 4: I'm a visual-k...</td>\n",
              "      <td>13</td>\n",
              "    </tr>\n",
              "    <tr>\n",
              "      <th>4058</th>\n",
              "      <td>INTP</td>\n",
              "      <td>'One thing I find funny about rereading this t...</td>\n",
              "      <td>11</td>\n",
              "    </tr>\n",
              "    <tr>\n",
              "      <th>3263</th>\n",
              "      <td>INFP</td>\n",
              "      <td>'I'm with you. There are a few animals have a ...</td>\n",
              "      <td>9</td>\n",
              "    </tr>\n",
              "  </tbody>\n",
              "</table>\n",
              "</div>"
            ],
            "text/plain": [
              "      type                                              posts  Label\n",
              "8075  INFP  'Masters, in what I will not reveal, lets keep...      9\n",
              "5656  ENTJ  'I find it a lot easier to believe in God than...      2\n",
              "4330  ISFP  '1: ISFP 2: Girl 3: youngest 4: I'm a visual-k...     13\n",
              "4058  INTP  'One thing I find funny about rereading this t...     11\n",
              "3263  INFP  'I'm with you. There are a few animals have a ...      9"
            ]
          },
          "metadata": {
            "tags": []
          },
          "execution_count": 188
        }
      ]
    },
    {
      "cell_type": "code",
      "metadata": {
        "id": "SD2Grb2nAKsD",
        "colab_type": "code",
        "colab": {}
      },
      "source": [
        "#tokenizer.fit_on_texts(list(list_sentences_train))\n",
        "#list_tokenized_train = tokenizer.texts_to_sequences(list_sentences_train)\n",
        "list_tokenized_example = tokenizer.texts_to_sequences(example)\n",
        "#X_t = pad_sequences(list_tokenized_train, maxlen=maxlen)\n",
        "X_example = pad_sequences(list_tokenized_example, maxlen=maxlen)"
      ],
      "execution_count": 0,
      "outputs": []
    },
    {
      "cell_type": "code",
      "metadata": {
        "id": "Y7HqfprVxAJu",
        "colab_type": "code",
        "colab": {}
      },
      "source": [
        "preds = model.predict([X_example])"
      ],
      "execution_count": 0,
      "outputs": []
    },
    {
      "cell_type": "code",
      "metadata": {
        "id": "fxYTL9ksyZEE",
        "colab_type": "code",
        "outputId": "ce2d6fae-dd15-4e89-bab4-284efe867992",
        "colab": {
          "base_uri": "https://localhost:8080/",
          "height": 35
        }
      },
      "source": [
        "preds.shape"
      ],
      "execution_count": 0,
      "outputs": [
        {
          "output_type": "execute_result",
          "data": {
            "text/plain": [
              "(1, 16)"
            ]
          },
          "metadata": {
            "tags": []
          },
          "execution_count": 192
        }
      ]
    },
    {
      "cell_type": "code",
      "metadata": {
        "id": "3WisNkW0ypHj",
        "colab_type": "code",
        "outputId": "fbb9abc1-afad-4f91-b93f-82a0f68ad36c",
        "colab": {
          "base_uri": "https://localhost:8080/",
          "height": 87
        }
      },
      "source": [
        "np.argmax(preds), preds"
      ],
      "execution_count": 0,
      "outputs": [
        {
          "output_type": "execute_result",
          "data": {
            "text/plain": [
              "(9, array([[0.04392968, 0.15670307, 0.04526794, 0.07806492, 0.01431173,\n",
              "         0.0159147 , 0.00726947, 0.01906331, 0.26070344, 0.35163456,\n",
              "         0.10886131, 0.12288445, 0.0311536 , 0.04750443, 0.05205884,\n",
              "         0.049218  ]], dtype=float32))"
            ]
          },
          "metadata": {
            "tags": []
          },
          "execution_count": 196
        }
      ]
    },
    {
      "cell_type": "code",
      "metadata": {
        "id": "gwoKDYi7y3AS",
        "colab_type": "code",
        "outputId": "119e5ee8-3f23-4d84-cf0e-c4b2183cf844",
        "colab": {
          "base_uri": "https://localhost:8080/",
          "height": 35
        }
      },
      "source": [
        "list_tokenized_example"
      ],
      "execution_count": 0,
      "outputs": [
        {
          "output_type": "execute_result",
          "data": {
            "text/plain": [
              "[[3959, 11, 33, 1, 87, 21, 3758, 1705, 276]]"
            ]
          },
          "metadata": {
            "tags": []
          },
          "execution_count": 194
        }
      ]
    },
    {
      "cell_type": "code",
      "metadata": {
        "id": "jYbnL423y69E",
        "colab_type": "code",
        "outputId": "525efd7d-8622-47be-b396-b6989f51edaf",
        "colab": {
          "base_uri": "https://localhost:8080/",
          "height": 312
        }
      },
      "source": [
        "df.type.value_counts()"
      ],
      "execution_count": 0,
      "outputs": [
        {
          "output_type": "execute_result",
          "data": {
            "text/plain": [
              "INFP    1832\n",
              "INFJ    1470\n",
              "INTP    1304\n",
              "INTJ    1091\n",
              "ENTP     685\n",
              "ENFP     675\n",
              "ISTP     337\n",
              "ISFP     271\n",
              "ENTJ     231\n",
              "ISTJ     205\n",
              "ENFJ     190\n",
              "ISFJ     166\n",
              "ESTP      89\n",
              "ESFP      48\n",
              "ESFJ      42\n",
              "ESTJ      39\n",
              "Name: type, dtype: int64"
            ]
          },
          "metadata": {
            "tags": []
          },
          "execution_count": 203
        }
      ]
    },
    {
      "cell_type": "code",
      "metadata": {
        "id": "P2Q38pzdzmSj",
        "colab_type": "code",
        "outputId": "e9a9fbf9-1aea-4078-dac5-696aeedfb4af",
        "colab": {
          "base_uri": "https://localhost:8080/",
          "height": 312
        }
      },
      "source": [
        "df.Label.value_counts()"
      ],
      "execution_count": 0,
      "outputs": [
        {
          "output_type": "execute_result",
          "data": {
            "text/plain": [
              "9     1832\n",
              "8     1470\n",
              "11    1304\n",
              "10    1091\n",
              "3      685\n",
              "1      675\n",
              "15     337\n",
              "13     271\n",
              "2      231\n",
              "14     205\n",
              "0      190\n",
              "12     166\n",
              "7       89\n",
              "5       48\n",
              "4       42\n",
              "6       39\n",
              "Name: Label, dtype: int64"
            ]
          },
          "metadata": {
            "tags": []
          },
          "execution_count": 204
        }
      ]
    },
    {
      "cell_type": "code",
      "metadata": {
        "id": "8K2amQpnz8IN",
        "colab_type": "code",
        "colab": {}
      },
      "source": [
        "model.save('personality-detect.h5')"
      ],
      "execution_count": 0,
      "outputs": []
    },
    {
      "cell_type": "code",
      "metadata": {
        "id": "WyEYaun08arp",
        "colab_type": "code",
        "colab": {}
      },
      "source": [
        "from keras.models import load_model\n",
        "model = load_model('personality-detect.h5')"
      ],
      "execution_count": 0,
      "outputs": []
    },
    {
      "cell_type": "code",
      "metadata": {
        "id": "RqDjV2cW8iOg",
        "colab_type": "code",
        "colab": {}
      },
      "source": [
        "preds = model.predict([X_example])"
      ],
      "execution_count": 0,
      "outputs": []
    },
    {
      "cell_type": "code",
      "metadata": {
        "id": "J6MliuJw8oQU",
        "colab_type": "code",
        "outputId": "21f5e476-039b-4317-ca16-8839dcaabd5c",
        "colab": {
          "base_uri": "https://localhost:8080/",
          "height": 87
        }
      },
      "source": [
        "np.argmax(preds), preds"
      ],
      "execution_count": 0,
      "outputs": [
        {
          "output_type": "execute_result",
          "data": {
            "text/plain": [
              "(9, array([[0.04392968, 0.15670307, 0.04526794, 0.07806492, 0.01431173,\n",
              "         0.0159147 , 0.00726947, 0.01906331, 0.26070344, 0.35163456,\n",
              "         0.10886131, 0.12288445, 0.0311536 , 0.04750443, 0.05205884,\n",
              "         0.049218  ]], dtype=float32))"
            ]
          },
          "metadata": {
            "tags": []
          },
          "execution_count": 209
        }
      ]
    },
    {
      "cell_type": "code",
      "metadata": {
        "id": "MWcO17Ml8uzp",
        "colab_type": "code",
        "colab": {}
      },
      "source": [
        "model.save_weights('pd-weights.h5')"
      ],
      "execution_count": 0,
      "outputs": []
    },
    {
      "cell_type": "code",
      "metadata": {
        "id": "lW0tMvPo9VRr",
        "colab_type": "code",
        "colab": {}
      },
      "source": [
        "model.load_weights('pd-weights.h5') "
      ],
      "execution_count": 0,
      "outputs": []
    },
    {
      "cell_type": "code",
      "metadata": {
        "id": "Uobj1cTI9ZVp",
        "colab_type": "code",
        "outputId": "1d5bb428-e81d-48e1-bcbc-efa30ee40016",
        "colab": {
          "base_uri": "https://localhost:8080/",
          "height": 87
        }
      },
      "source": [
        "preds = model.predict([X_example]); np.argmax(preds), preds"
      ],
      "execution_count": 0,
      "outputs": [
        {
          "output_type": "execute_result",
          "data": {
            "text/plain": [
              "(9, array([[0.04392968, 0.15670307, 0.04526794, 0.07806492, 0.01431173,\n",
              "         0.0159147 , 0.00726947, 0.01906331, 0.26070344, 0.35163456,\n",
              "         0.10886131, 0.12288445, 0.0311536 , 0.04750443, 0.05205884,\n",
              "         0.049218  ]], dtype=float32))"
            ]
          },
          "metadata": {
            "tags": []
          },
          "execution_count": 212
        }
      ]
    },
    {
      "cell_type": "code",
      "metadata": {
        "id": "T4V8IpkR9b5a",
        "colab_type": "code",
        "colab": {}
      },
      "source": [
        "import pickle\n",
        "\n",
        "# saving\n",
        "with open('tokenizer.pickle', 'wb') as handle:\n",
        "    pickle.dump(tokenizer, handle, protocol=pickle.HIGHEST_PROTOCOL)"
      ],
      "execution_count": 0,
      "outputs": []
    },
    {
      "cell_type": "code",
      "metadata": {
        "id": "d1BAqYYTB0cl",
        "colab_type": "code",
        "colab": {}
      },
      "source": [
        "with open('tokenizer.pickle', 'rb') as handle:\n",
        "    tokenizer = pickle.load(handle)"
      ],
      "execution_count": 0,
      "outputs": []
    },
    {
      "cell_type": "code",
      "metadata": {
        "id": "iRP7kh6dCdOJ",
        "colab_type": "code",
        "outputId": "cc5d4400-83e8-4539-8a14-5cb5b84dcc19",
        "colab": {
          "base_uri": "https://localhost:8080/",
          "height": 35
        }
      },
      "source": [
        "df.type.values"
      ],
      "execution_count": 0,
      "outputs": [
        {
          "output_type": "execute_result",
          "data": {
            "text/plain": [
              "array(['INFJ', 'ENTP', 'INTP', ..., 'INTP', 'INFP', 'INFP'], dtype=object)"
            ]
          },
          "metadata": {
            "tags": []
          },
          "execution_count": 217
        }
      ]
    },
    {
      "cell_type": "code",
      "metadata": {
        "id": "jYIhXDfjD--j",
        "colab_type": "code",
        "colab": {}
      },
      "source": [
        "def f(x):\n",
        "            return {\n",
        "                9: 'INFP',\n",
        "                '8':'INFJ',\n",
        "                '11':'INTP',\n",
        "                '10':'INTJ',\n",
        "                '3':'ENTP',\n",
        "                '1':'ENFP',\n",
        "                '15':'ISTP',\n",
        "                '13':'ISFP',\n",
        "                '2':'ENTJ',\n",
        "                '14':'ISTJ',\n",
        "                '0':'ENFJ',\n",
        "                '12':'ISFJ',\n",
        "                '7':'ESTP',\n",
        "                '5':'ESFP',\n",
        "                '4':'ESFJ',\n",
        "                '6':'ESTJ'\n",
        "            }[x]"
      ],
      "execution_count": 0,
      "outputs": []
    },
    {
      "cell_type": "code",
      "metadata": {
        "id": "_RW_JMPFFTKT",
        "colab_type": "code",
        "outputId": "1944b7d0-2f47-4d3f-b2d5-060a6c1b95ee",
        "colab": {
          "base_uri": "https://localhost:8080/",
          "height": 35
        }
      },
      "source": [
        "f(np.argmax(preds))"
      ],
      "execution_count": 0,
      "outputs": [
        {
          "output_type": "execute_result",
          "data": {
            "text/plain": [
              "'INFP'"
            ]
          },
          "metadata": {
            "tags": []
          },
          "execution_count": 221
        }
      ]
    },
    {
      "cell_type": "code",
      "metadata": {
        "id": "mAIP07N_JnHS",
        "colab_type": "code",
        "colab": {}
      },
      "source": [
        ""
      ],
      "execution_count": 0,
      "outputs": []
    }
  ]
}